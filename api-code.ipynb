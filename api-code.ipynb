{
 "cells": [
  {
   "cell_type": "code",
   "execution_count": 1,
   "metadata": {},
   "outputs": [],
   "source": [
    "# To perform API calls to collect Modi's last two weeks tweets \n",
    "# Set up dependencys\n",
    "import tweepy\n",
    "import pandas as pd\n",
    "import config"
   ]
  },
  {
   "cell_type": "code",
   "execution_count": 2,
   "metadata": {},
   "outputs": [],
   "source": [
    "auth = tweepy.OAuthHandler(config.consumer_key, config.consumer_secret)\n",
    "auth.set_access_token(config.access_token,config.access_token_secret)\n",
    "api = tweepy.API(auth)"
   ]
  },
  {
   "cell_type": "code",
   "execution_count": 3,
   "metadata": {},
   "outputs": [
    {
     "name": "stdout",
     "output_type": "stream",
     "text": [
      "NDA Government is honoured to have undertaken numerous steps for the wellbeing of the middle class. From a friendli… https://t.co/2cTfnoj8pE\n",
      "\n",
      "India is home to a dynamic middle class, which is making an outstanding contribution to the nation’s progress. The… https://t.co/wDnUggrKSO\n",
      "\n",
      "Today, on #WorldCancerDay we reiterate our commitment towards ensuring early detection and affordable treatment of… https://t.co/vaUfxBQrJD\n",
      "\n",
      "Congratulated @DrKrishanMiddha Ji for the remarkable win in Jind. \n",
      "\n",
      "Over the years, the people of Haryana have been… https://t.co/HsS3BaMjbE\n",
      "\n",
      "I salute all those who are valiantly fighting cancer. Millions are inspired by their remarkable zeal.\n",
      "\n",
      "I also appre… https://t.co/SWpWjuoYJH\n",
      "\n"
     ]
    }
   ],
   "source": [
    "tweets = api.user_timeline(screen_name =\"narendramodi\", count=200)\n",
    "for tweet in tweets[:5]:\n",
    "    print(tweet.text)\n",
    "    print()"
   ]
  },
  {
   "cell_type": "code",
   "execution_count": 4,
   "metadata": {},
   "outputs": [
    {
     "data": {
      "text/html": [
       "<div>\n",
       "<style scoped>\n",
       "    .dataframe tbody tr th:only-of-type {\n",
       "        vertical-align: middle;\n",
       "    }\n",
       "\n",
       "    .dataframe tbody tr th {\n",
       "        vertical-align: top;\n",
       "    }\n",
       "\n",
       "    .dataframe thead th {\n",
       "        text-align: right;\n",
       "    }\n",
       "</style>\n",
       "<table border=\"1\" class=\"dataframe\">\n",
       "  <thead>\n",
       "    <tr style=\"text-align: right;\">\n",
       "      <th></th>\n",
       "      <th>Tweets</th>\n",
       "    </tr>\n",
       "  </thead>\n",
       "  <tbody>\n",
       "    <tr>\n",
       "      <th>0</th>\n",
       "      <td>NDA Government is honoured to have undertaken ...</td>\n",
       "    </tr>\n",
       "    <tr>\n",
       "      <th>1</th>\n",
       "      <td>India is home to a dynamic middle class, which...</td>\n",
       "    </tr>\n",
       "    <tr>\n",
       "      <th>2</th>\n",
       "      <td>Today, on #WorldCancerDay we reiterate our com...</td>\n",
       "    </tr>\n",
       "    <tr>\n",
       "      <th>3</th>\n",
       "      <td>Congratulated @DrKrishanMiddha Ji for the rema...</td>\n",
       "    </tr>\n",
       "    <tr>\n",
       "      <th>4</th>\n",
       "      <td>I salute all those who are valiantly fighting ...</td>\n",
       "    </tr>\n",
       "  </tbody>\n",
       "</table>\n",
       "</div>"
      ],
      "text/plain": [
       "                                              Tweets\n",
       "0  NDA Government is honoured to have undertaken ...\n",
       "1  India is home to a dynamic middle class, which...\n",
       "2  Today, on #WorldCancerDay we reiterate our com...\n",
       "3  Congratulated @DrKrishanMiddha Ji for the rema...\n",
       "4  I salute all those who are valiantly fighting ..."
      ]
     },
     "execution_count": 4,
     "metadata": {},
     "output_type": "execute_result"
    }
   ],
   "source": [
    "# Create dataframe of the tweets\n",
    "tweet_data = pd.DataFrame(data=[tweet.text for tweet in tweets], columns=['Tweets'])\n",
    "tweet_data.head()"
   ]
  },
  {
   "cell_type": "code",
   "execution_count": 5,
   "metadata": {},
   "outputs": [
    {
     "data": {
      "text/html": [
       "<div>\n",
       "<style scoped>\n",
       "    .dataframe tbody tr th:only-of-type {\n",
       "        vertical-align: middle;\n",
       "    }\n",
       "\n",
       "    .dataframe tbody tr th {\n",
       "        vertical-align: top;\n",
       "    }\n",
       "\n",
       "    .dataframe thead th {\n",
       "        text-align: right;\n",
       "    }\n",
       "</style>\n",
       "<table border=\"1\" class=\"dataframe\">\n",
       "  <thead>\n",
       "    <tr style=\"text-align: right;\">\n",
       "      <th></th>\n",
       "      <th>Tweets</th>\n",
       "      <th>len</th>\n",
       "      <th>ID</th>\n",
       "      <th>Date</th>\n",
       "      <th>Source</th>\n",
       "      <th>Likes</th>\n",
       "      <th>RT</th>\n",
       "    </tr>\n",
       "  </thead>\n",
       "  <tbody>\n",
       "    <tr>\n",
       "      <th>0</th>\n",
       "      <td>NDA Government is honoured to have undertaken ...</td>\n",
       "      <td>140</td>\n",
       "      <td>1092709705909071872</td>\n",
       "      <td>2019-02-05 09:01:10</td>\n",
       "      <td>Twitter Web Client</td>\n",
       "      <td>14005</td>\n",
       "      <td>3223</td>\n",
       "    </tr>\n",
       "    <tr>\n",
       "      <th>1</th>\n",
       "      <td>India is home to a dynamic middle class, which...</td>\n",
       "      <td>139</td>\n",
       "      <td>1092709704340402176</td>\n",
       "      <td>2019-02-05 09:01:09</td>\n",
       "      <td>Twitter Web Client</td>\n",
       "      <td>19746</td>\n",
       "      <td>4303</td>\n",
       "    </tr>\n",
       "    <tr>\n",
       "      <th>2</th>\n",
       "      <td>Today, on #WorldCancerDay we reiterate our com...</td>\n",
       "      <td>139</td>\n",
       "      <td>1092355257496027136</td>\n",
       "      <td>2019-02-04 09:32:43</td>\n",
       "      <td>Twitter Web Client</td>\n",
       "      <td>13104</td>\n",
       "      <td>2508</td>\n",
       "    </tr>\n",
       "    <tr>\n",
       "      <th>3</th>\n",
       "      <td>Congratulated @DrKrishanMiddha Ji for the rema...</td>\n",
       "      <td>140</td>\n",
       "      <td>1092353308654620672</td>\n",
       "      <td>2019-02-04 09:24:58</td>\n",
       "      <td>Twitter Web Client</td>\n",
       "      <td>19282</td>\n",
       "      <td>3314</td>\n",
       "    </tr>\n",
       "    <tr>\n",
       "      <th>4</th>\n",
       "      <td>I salute all those who are valiantly fighting ...</td>\n",
       "      <td>140</td>\n",
       "      <td>1092352936825344000</td>\n",
       "      <td>2019-02-04 09:23:29</td>\n",
       "      <td>Twitter Web Client</td>\n",
       "      <td>28141</td>\n",
       "      <td>5306</td>\n",
       "    </tr>\n",
       "  </tbody>\n",
       "</table>\n",
       "</div>"
      ],
      "text/plain": [
       "                                              Tweets  len  \\\n",
       "0  NDA Government is honoured to have undertaken ...  140   \n",
       "1  India is home to a dynamic middle class, which...  139   \n",
       "2  Today, on #WorldCancerDay we reiterate our com...  139   \n",
       "3  Congratulated @DrKrishanMiddha Ji for the rema...  140   \n",
       "4  I salute all those who are valiantly fighting ...  140   \n",
       "\n",
       "                    ID                Date              Source  Likes    RT  \n",
       "0  1092709705909071872 2019-02-05 09:01:10  Twitter Web Client  14005  3223  \n",
       "1  1092709704340402176 2019-02-05 09:01:09  Twitter Web Client  19746  4303  \n",
       "2  1092355257496027136 2019-02-04 09:32:43  Twitter Web Client  13104  2508  \n",
       "3  1092353308654620672 2019-02-04 09:24:58  Twitter Web Client  19282  3314  \n",
       "4  1092352936825344000 2019-02-04 09:23:29  Twitter Web Client  28141  5306  "
      ]
     },
     "execution_count": 5,
     "metadata": {},
     "output_type": "execute_result"
    }
   ],
   "source": [
    "# Added data in the dataframe and export to csv to process later\n",
    "tweet_data['len'] = np.array([len(tweet.text) for tweet in tweets])\n",
    "tweet_data['ID'] = np.array([tweet.id for tweet in tweets])\n",
    "tweet_data['Date'] =np.array([tweet.created_at for tweet in tweets])\n",
    "tweet_data['Source'] = np.array([tweet.source for tweet in tweets])\n",
    "tweet_data['Likes'] = np.array([tweet.favorite_count for tweet in tweets])\n",
    "tweet_data['RT'] = np.array([tweet.retweet_count for tweet in tweets])\n",
    "tweet_data.to_csv(\"modi.csv\")\n",
    "tweet_data.head()"
   ]
  }
 ],
 "metadata": {
  "kernelspec": {
   "display_name": "Python 3",
   "language": "python",
   "name": "python3"
  },
  "language_info": {
   "codemirror_mode": {
    "name": "ipython",
    "version": 3
   },
   "file_extension": ".py",
   "mimetype": "text/x-python",
   "name": "python",
   "nbconvert_exporter": "python",
   "pygments_lexer": "ipython3",
   "version": "3.7.0"
  }
 },
 "nbformat": 4,
 "nbformat_minor": 2
}
